{
 "cells": [
  {
   "cell_type": "code",
   "execution_count": 2,
   "id": "eda41c90-8b58-43fc-956d-86e70f064e7c",
   "metadata": {},
   "outputs": [],
   "source": [
    "import tensorflow as tf\n",
    "from tensorflow import keras\n",
    "from tensorflow.keras.preprocessing.text import Tokenizer"
   ]
  },
  {
   "cell_type": "code",
   "execution_count": 10,
   "id": "6f842d78-20d2-43c2-b9a2-5bc7826ab128",
   "metadata": {},
   "outputs": [],
   "source": [
    "train_sentences = [\n",
    "    'I will be able to do amazing things with AI',\n",
    "    'The path will not be easy',\n",
    "    'Will I master AI easily?'\n",
    "]"
   ]
  },
  {
   "cell_type": "code",
   "execution_count": 15,
   "id": "67a99d1e-8050-4983-be71-91db821ade39",
   "metadata": {},
   "outputs": [],
   "source": [
    "tokenizer = Tokenizer(num_words=100)\n",
    "tokenizer.fit_on_texts(train_sentences)\n",
    "word_index = tokenizer.word_index"
   ]
  },
  {
   "cell_type": "code",
   "execution_count": 16,
   "id": "4e0dd5ab-cf24-4883-952f-5b5dc2b83eb7",
   "metadata": {},
   "outputs": [
    {
     "name": "stdout",
     "output_type": "stream",
     "text": [
      "{'will': 1, 'i': 2, 'be': 3, 'ai': 4, 'able': 5, 'to': 6, 'do': 7, 'amazing': 8, 'things': 9, 'with': 10, 'the': 11, 'path': 12, 'not': 13, 'easy': 14, 'master': 15, 'easily': 16}\n"
     ]
    }
   ],
   "source": [
    "print(word_index)"
   ]
  },
  {
   "cell_type": "code",
   "execution_count": 17,
   "id": "b1a8532e-b9cd-4c1f-8cce-2354b6ca4f6d",
   "metadata": {},
   "outputs": [],
   "source": [
    "sequences = tokenizer.texts_to_sequences(train_sentences)"
   ]
  },
  {
   "cell_type": "code",
   "execution_count": 18,
   "id": "9fdacc94-860b-44a6-b1d6-a329ac8d994c",
   "metadata": {},
   "outputs": [
    {
     "name": "stdout",
     "output_type": "stream",
     "text": [
      "Word index -->{'will': 1, 'i': 2, 'be': 3, 'ai': 4, 'able': 5, 'to': 6, 'do': 7, 'amazing': 8, 'things': 9, 'with': 10, 'the': 11, 'path': 12, 'not': 13, 'easy': 14, 'master': 15, 'easily': 16}\n",
      "Sequences of words -->[[2, 1, 3, 5, 6, 7, 8, 9, 10, 4], [11, 12, 1, 13, 3, 14], [1, 2, 15, 4, 16]]\n"
     ]
    }
   ],
   "source": [
    "print(f'Word index -->{word_index}')\n",
    "print(f'Sequences of words -->{sequences}')"
   ]
  },
  {
   "cell_type": "code",
   "execution_count": 19,
   "id": "f754695c-77bb-4dc3-a209-f77ef2edd970",
   "metadata": {},
   "outputs": [
    {
     "name": "stdout",
     "output_type": "stream",
     "text": [
      "I will be able to do amazing things with AI\n",
      "[2, 1, 3, 5, 6, 7, 8, 9, 10, 4]\n"
     ]
    }
   ],
   "source": [
    "print(train_sentences[0])\n",
    "print(sequences[0])"
   ]
  },
  {
   "cell_type": "markdown",
   "id": "88c26e42-037d-4bda-84ed-813920b263bd",
   "metadata": {},
   "source": [
    "## Tokenizing new data with the same tokenizer"
   ]
  },
  {
   "cell_type": "code",
   "execution_count": 20,
   "id": "94103135-3bd5-4974-8e91-ea40c68a83ea",
   "metadata": {},
   "outputs": [],
   "source": [
    "new_sentences = [\n",
    "    'It will not be easy to do things with AI',\n",
    "    'AI is amazing'\n",
    "]"
   ]
  },
  {
   "cell_type": "code",
   "execution_count": 21,
   "id": "117c30aa-479a-4e25-ba52-eb4fcf724708",
   "metadata": {},
   "outputs": [],
   "source": [
    "new_sequences = tokenizer.texts_to_sequences(new_sentences)"
   ]
  },
  {
   "cell_type": "code",
   "execution_count": 22,
   "id": "1ec0d1a0-8033-40bf-9b52-6879e72fc1e7",
   "metadata": {},
   "outputs": [
    {
     "name": "stdout",
     "output_type": "stream",
     "text": [
      "['It will not be easy to do things with AI', 'AI is amazing']\n"
     ]
    }
   ],
   "source": [
    "print(new_sentences)"
   ]
  },
  {
   "cell_type": "code",
   "execution_count": 23,
   "id": "6934a5b3-7865-43d1-9c7f-703f81800827",
   "metadata": {},
   "outputs": [
    {
     "name": "stdout",
     "output_type": "stream",
     "text": [
      "[[1, 13, 3, 14, 6, 7, 9, 10, 4], [4, 8]]\n"
     ]
    }
   ],
   "source": [
    "print(new_sequences)"
   ]
  },
  {
   "cell_type": "markdown",
   "id": "09792bce-73a6-49ff-85a9-9cd7f732a150",
   "metadata": {},
   "source": [
    "## Replacing newly encountered words with special values"
   ]
  },
  {
   "cell_type": "code",
   "execution_count": 24,
   "id": "12f9f032-0b1c-4330-8de3-be51d4399ed3",
   "metadata": {},
   "outputs": [],
   "source": [
    "tokenizer = Tokenizer(num_words=100, oov_token = '<oov>')"
   ]
  },
  {
   "cell_type": "code",
   "execution_count": 25,
   "id": "93c2a29f-48cb-4993-864d-51a31ae657f1",
   "metadata": {},
   "outputs": [],
   "source": [
    "tokenizer.fit_on_texts(train_sentences)"
   ]
  },
  {
   "cell_type": "code",
   "execution_count": 26,
   "id": "0057c70b-99ec-4e75-a86f-e5174ee63f34",
   "metadata": {},
   "outputs": [],
   "source": [
    "word_index = tokenizer.word_index"
   ]
  },
  {
   "cell_type": "code",
   "execution_count": 27,
   "id": "7234a17a-9fa8-4954-a13f-6c626c8a05bd",
   "metadata": {},
   "outputs": [],
   "source": [
    "new_sequences = tokenizer.texts_to_sequences(new_sentences)"
   ]
  },
  {
   "cell_type": "code",
   "execution_count": 28,
   "id": "7ffec68f-07c7-4e9d-9669-6282a8bf5498",
   "metadata": {},
   "outputs": [
    {
     "name": "stdout",
     "output_type": "stream",
     "text": [
      "{'<oov>': 1, 'will': 2, 'i': 3, 'be': 4, 'ai': 5, 'able': 6, 'to': 7, 'do': 8, 'amazing': 9, 'things': 10, 'with': 11, 'the': 12, 'path': 13, 'not': 14, 'easy': 15, 'master': 16, 'easily': 17}\n"
     ]
    }
   ],
   "source": [
    "print(word_index)"
   ]
  },
  {
   "cell_type": "code",
   "execution_count": 29,
   "id": "430d67c4-0394-4135-892f-403b4c8adc0e",
   "metadata": {},
   "outputs": [
    {
     "name": "stdout",
     "output_type": "stream",
     "text": [
      "['It will not be easy to do things with AI', 'AI is amazing']\n"
     ]
    }
   ],
   "source": [
    "print(new_sentences)"
   ]
  },
  {
   "cell_type": "code",
   "execution_count": 30,
   "id": "ca29e194-f760-46b8-974d-5bfbd9df3f0e",
   "metadata": {},
   "outputs": [
    {
     "name": "stdout",
     "output_type": "stream",
     "text": [
      "[[1, 2, 14, 4, 15, 7, 8, 10, 11, 5], [5, 1, 9]]\n"
     ]
    }
   ],
   "source": [
    "print(new_sequences)"
   ]
  },
  {
   "cell_type": "markdown",
   "id": "9522a3f5-5bd8-464d-ae85-cf9ee40fd4bf",
   "metadata": {},
   "source": [
    "# Padding the sequences"
   ]
  },
  {
   "cell_type": "code",
   "execution_count": 31,
   "id": "ba3b8c3e-f7c4-49d2-a676-a43cb5efa3b1",
   "metadata": {},
   "outputs": [],
   "source": [
    "from tensorflow.keras.preprocessing.sequence import pad_sequences"
   ]
  },
  {
   "cell_type": "code",
   "execution_count": 32,
   "id": "079d399d-fd9a-445c-bf86-081255b527ec",
   "metadata": {},
   "outputs": [],
   "source": [
    "padded_seqs = pad_sequences(sequences)"
   ]
  },
  {
   "cell_type": "code",
   "execution_count": 33,
   "id": "4698bc0b-e2b7-4f5f-8791-061661919da6",
   "metadata": {},
   "outputs": [
    {
     "name": "stdout",
     "output_type": "stream",
     "text": [
      "{'<oov>': 1, 'will': 2, 'i': 3, 'be': 4, 'ai': 5, 'able': 6, 'to': 7, 'do': 8, 'amazing': 9, 'things': 10, 'with': 11, 'the': 12, 'path': 13, 'not': 14, 'easy': 15, 'master': 16, 'easily': 17}\n"
     ]
    }
   ],
   "source": [
    "print(word_index)"
   ]
  },
  {
   "cell_type": "code",
   "execution_count": 34,
   "id": "6e4d39a7-75c8-4286-81a4-4b0020b49fee",
   "metadata": {},
   "outputs": [
    {
     "name": "stdout",
     "output_type": "stream",
     "text": [
      "['I will be able to do amazing things with AI', 'The path will not be easy', 'Will I master AI easily?']\n"
     ]
    }
   ],
   "source": [
    "print(train_sentences)"
   ]
  },
  {
   "cell_type": "code",
   "execution_count": 35,
   "id": "1bd72132-7fd1-4674-8175-f5bf2370fca0",
   "metadata": {},
   "outputs": [
    {
     "name": "stdout",
     "output_type": "stream",
     "text": [
      "[[2, 1, 3, 5, 6, 7, 8, 9, 10, 4], [11, 12, 1, 13, 3, 14], [1, 2, 15, 4, 16]]\n"
     ]
    }
   ],
   "source": [
    "print(sequences)"
   ]
  },
  {
   "cell_type": "code",
   "execution_count": 36,
   "id": "36f55548-e0dc-47c2-9db0-b24580feccbf",
   "metadata": {},
   "outputs": [
    {
     "name": "stdout",
     "output_type": "stream",
     "text": [
      "[[ 2  1  3  5  6  7  8  9 10  4]\n",
      " [ 0  0  0  0 11 12  1 13  3 14]\n",
      " [ 0  0  0  0  0  1  2 15  4 16]]\n"
     ]
    }
   ],
   "source": [
    "print(padded_seqs)"
   ]
  },
  {
   "cell_type": "markdown",
   "id": "ca6d4682-9eb0-41ca-8b16-2a454bab9bae",
   "metadata": {},
   "source": [
    "## Customising padded sequence with parameters"
   ]
  },
  {
   "cell_type": "code",
   "execution_count": 39,
   "id": "cfdcbd05-e947-4b81-b02e-c8b5591854f0",
   "metadata": {},
   "outputs": [],
   "source": [
    "padded_seqs = pad_sequences(sequences,\n",
    "                           padding='post',\n",
    "                           maxlen=10,\n",
    "                           truncating='post')"
   ]
  },
  {
   "cell_type": "code",
   "execution_count": 40,
   "id": "8c197f24-0df7-4eb5-8562-0722165492a4",
   "metadata": {},
   "outputs": [
    {
     "name": "stdout",
     "output_type": "stream",
     "text": [
      "[[ 2  1  3  5  6  7  8  9 10  4]\n",
      " [11 12  1 13  3 14  0  0  0  0]\n",
      " [ 1  2 15  4 16  0  0  0  0  0]]\n"
     ]
    }
   ],
   "source": [
    "print(padded_seqs)"
   ]
  },
  {
   "cell_type": "code",
   "execution_count": null,
   "id": "e38b1494-3f93-487c-a3da-89e640650bc2",
   "metadata": {},
   "outputs": [],
   "source": []
  }
 ],
 "metadata": {
  "kernelspec": {
   "display_name": "Python 3 (ipykernel)",
   "language": "python",
   "name": "python3"
  },
  "language_info": {
   "codemirror_mode": {
    "name": "ipython",
    "version": 3
   },
   "file_extension": ".py",
   "mimetype": "text/x-python",
   "name": "python",
   "nbconvert_exporter": "python",
   "pygments_lexer": "ipython3",
   "version": "3.11.5"
  }
 },
 "nbformat": 4,
 "nbformat_minor": 5
}
